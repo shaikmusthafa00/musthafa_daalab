{
  "nbformat": 4,
  "nbformat_minor": 0,
  "metadata": {
    "colab": {
      "provenance": [],
      "authorship_tag": "ABX9TyN+rHyDdBap6wFZtUgNcTna",
      "include_colab_link": true
    },
    "kernelspec": {
      "name": "python3",
      "display_name": "Python 3"
    },
    "language_info": {
      "name": "python"
    }
  },
  "cells": [
    {
      "cell_type": "markdown",
      "metadata": {
        "id": "view-in-github",
        "colab_type": "text"
      },
      "source": [
        "<a href=\"https://colab.research.google.com/github/shaikmusthafa00/musthafa_daalab/blob/main/exp_10.ipynb\" target=\"_parent\"><img src=\"https://colab.research.google.com/assets/colab-badge.svg\" alt=\"Open In Colab\"/></a>"
      ]
    },
    {
      "cell_type": "code",
      "execution_count": 1,
      "metadata": {
        "colab": {
          "base_uri": "https://localhost:8080/",
          "height": 106
        },
        "id": "H2UeUG8JhvcZ",
        "outputId": "bb7a8cfa-a5e4-44b1-fe4d-f14f6e2a59e3"
      },
      "outputs": [
        {
          "output_type": "error",
          "ename": "SyntaxError",
          "evalue": "invalid non-printable character U+00A0 (<ipython-input-1-fa30d9534eb3>, line 31)",
          "traceback": [
            "\u001b[0;36m  File \u001b[0;32m\"<ipython-input-1-fa30d9534eb3>\"\u001b[0;36m, line \u001b[0;32m31\u001b[0m\n\u001b[0;31m    print(\"Sorted array:  \", arr)\u001b[0m\n\u001b[0m                            ^\u001b[0m\n\u001b[0;31mSyntaxError\u001b[0m\u001b[0;31m:\u001b[0m invalid non-printable character U+00A0\n"
          ]
        }
      ],
      "source": [
        "import random\n",
        "\n",
        "def randomized_partition(arr, low, high):\n",
        "    rand_index = random.randint(low, high)\n",
        "    arr[high], arr[rand_index] = arr[rand_index], arr[high]\n",
        "    return partition(arr, low, high)\n",
        "\n",
        "def partition(arr, low, high):\n",
        "    pivot = arr[high]\n",
        "    i = low - 1\n",
        "\n",
        "    for j in range(low, high):\n",
        "        if arr[j] <= pivot:\n",
        "            i += 1\n",
        "            arr[i], arr[j] = arr[j], arr[i]\n",
        "\n",
        "    arr[i + 1], arr[high] = arr[high], arr[i + 1]\n",
        "    return i + 1\n",
        "\n",
        "def randomized_quick_sort(arr, low, high):\n",
        "    if low < high:\n",
        "        pi = randomized_partition(arr, low, high)\n",
        "        randomized_quick_sort(arr, low, pi - 1)\n",
        "        randomized_quick_sort(arr, pi + 1, high)\n",
        "\n",
        "# Sample array\n",
        "arr = [10, 7, 8, 9, 1, 5]\n",
        "\n",
        "print(\"Original array:\", arr)\n",
        "randomized_quick_sort(arr, 0, len(arr) - 1)\n",
        "print(\"Sorted array:  \", arr)"
      ]
    }
  ]
}