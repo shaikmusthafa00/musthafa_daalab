{
  "nbformat": 4,
  "nbformat_minor": 0,
  "metadata": {
    "colab": {
      "provenance": [],
      "authorship_tag": "ABX9TyMTdRKorKNmvRcL9xaY/mw/",
      "include_colab_link": true
    },
    "kernelspec": {
      "name": "python3",
      "display_name": "Python 3"
    },
    "language_info": {
      "name": "python"
    }
  },
  "cells": [
    {
      "cell_type": "markdown",
      "metadata": {
        "id": "view-in-github",
        "colab_type": "text"
      },
      "source": [
        "<a href=\"https://colab.research.google.com/github/shaikmusthafa00/musthafa_daalab/blob/main/exp_4_kpk.ipynb\" target=\"_parent\"><img src=\"https://colab.research.google.com/assets/colab-badge.svg\" alt=\"Open In Colab\"/></a>"
      ]
    },
    {
      "cell_type": "code",
      "execution_count": null,
      "metadata": {
        "id": "FuVJDRoVYgR4"
      },
      "outputs": [],
      "source": [
        "class Item:\n",
        "    def init(self, value, weight):\n",
        "        self.value = value\n",
        "        self.weight = weight\n",
        "        self.ratio = value / weight\n",
        "\n",
        "def fractional_knapsack(capacity, items):\n",
        "    # Sort items by value-to-weight ratio (descending)\n",
        "    items.sort(key=lambda x: x.ratio, reverse=True)\n",
        "\n",
        "    total_value = 0.0\n",
        "    result = []\n",
        "\n",
        "    for item in items:\n",
        "        if capacity >= item.weight:\n",
        "            # Take the whole item\n",
        "            capacity -= item.weight\n",
        "            total_value += item.value\n",
        "            result.append((item.weight, item.value, 1.0))\n",
        "        else:\n",
        "            # Take a fraction of the item\n",
        "            fraction = capacity / item.weight\n",
        "            total_value += item.value * fraction\n",
        "            result.append((capacity, item.value * fraction, fraction))\n",
        "            break\n",
        "\n",
        "    return total_value, result\n",
        "# Example items: (value, weight)\n",
        "items = [Item(60, 10), Item(100, 20), Item(120, 30)]\n",
        "capacity = 50\n",
        "\n",
        "max_value, taken_items = fractional_knapsack(capacity, items)\n",
        "\n",
        "print(\"Maximum value in knapsack:\", max_value)\n",
        "print(\"\\nItems taken (Weight, Value, Fraction):\")\n",
        "for w, v, f in taken_items:\n",
        "    print(f\"Weight: {w}, Value: {v}, Fraction: {f}\")"
      ]
    }
  ]
}